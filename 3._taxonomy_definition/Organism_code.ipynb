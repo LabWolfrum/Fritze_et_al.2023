{
 "cells": [
  {
   "cell_type": "code",
   "execution_count": 13,
   "id": "506b314e",
   "metadata": {},
   "outputs": [
    {
     "name": "stdout",
     "output_type": "stream",
     "text": [
      "No record found for sequence ID: XP_005584944.1\n",
      "No record found for sequence ID: XP_024409245.1\n",
      "No record found for sequence ID: NXG29166.1\n",
      "No record found for sequence ID: XP_009901177.1\n"
     ]
    }
   ],
   "source": [
    "###code sumhow does not find all seq_id the rest has to be found by hand####\n",
    "\n",
    "from Bio import Entrez\n",
    "\n",
    "#change to your user e-mail adress from NCBI server\n",
    "Entrez.email = \"user e-mail adress\"\n",
    "\n",
    "# Open the input and output files\n",
    "with open(\"seq_id.fasta\") as f_in, open(\"seq_id_taxonomy.fasta\", \"w\") as f_out:\n",
    "    for line in f_in:\n",
    "        # Skip lines that don't start with \">\"\n",
    "        if not line.startswith(\">\"):\n",
    "            continue\n",
    "        \n",
    "        # Remove the \">\" symbol and newline character from the ID\n",
    "        sequence_id = line.strip()[1:]\n",
    "        \n",
    "        # Define the search term\n",
    "        search_term = f\"{sequence_id}[Accession]\"\n",
    "        \n",
    "        # Search for the sequence using Entrez\n",
    "        handle = Entrez.esearch(db=\"protein\", term=search_term)\n",
    "        record = Entrez.read(handle)\n",
    "        \n",
    "        # Get the list of matching IDs\n",
    "        id_list = record[\"IdList\"]\n",
    "        \n",
    "        if len(id_list) == 0:\n",
    "            print(f\"No record found for sequence ID: {sequence_id}\")\n",
    "            continue\n",
    "        \n",
    "        # Use the first ID to fetch the record\n",
    "        record_handle = Entrez.efetch(db=\"protein\", id=id_list[0], retmode=\"xml\")\n",
    "        record = Entrez.read(record_handle)\n",
    "        \n",
    "        # Extract the organism and taxonomy information\n",
    "        organism = record[0][\"GBSeq_organism\"]\n",
    "        taxonomy = record[0][\"GBSeq_taxonomy\"]\n",
    "        \n",
    "        # Print the organism and taxonomy information\n",
    "        #print(f\"Sequence ID: {sequence_id}\")\n",
    "        #print(f\"Organism: {organism}\")\n",
    "        #print(f\"Taxonomy: {taxonomy}\")\n",
    "        \n",
    "        # Write the sequence ID and taxonomy information to the output file\n",
    "        f_out.write(f\">{sequence_id} {organism} {taxonomy}\\n\")\n"
   ]
  },
  {
   "cell_type": "code",
   "execution_count": 14,
   "id": "aaa94cbc",
   "metadata": {},
   "outputs": [],
   "source": [
    "#establish single vertebrata list\n",
    "with open(\"seq_id_taxonomy.fasta\", \"r\") as input_file:\n",
    "    with open(\"seq_id_vertebrata.fasta\", \"w\") as output_file:\n",
    "        for line in input_file:\n",
    "            if \"Vertebrata\" in line:\n",
    "                output_file.write(line)\n"
   ]
  },
  {
   "cell_type": "code",
   "execution_count": 15,
   "id": "4073e52c",
   "metadata": {},
   "outputs": [],
   "source": [
    "#establish single mammalia list\n",
    "with open(\"seq_id_taxonomy.fasta\", \"r\") as input_file:\n",
    "    with open(\"seq_id_mammalia.fasta\", \"w\") as output_file:\n",
    "        for line in input_file:\n",
    "            if \"Mammalia\" in line:\n",
    "                output_file.write(line)"
   ]
  },
  {
   "cell_type": "code",
   "execution_count": null,
   "id": "cfc2fb24",
   "metadata": {},
   "outputs": [],
   "source": []
  }
 ],
 "metadata": {
  "kernelspec": {
   "display_name": "Python 3 (ipykernel)",
   "language": "python",
   "name": "python3"
  },
  "language_info": {
   "codemirror_mode": {
    "name": "ipython",
    "version": 3
   },
   "file_extension": ".py",
   "mimetype": "text/x-python",
   "name": "python",
   "nbconvert_exporter": "python",
   "pygments_lexer": "ipython3",
   "version": "3.9.13"
  }
 },
 "nbformat": 4,
 "nbformat_minor": 5
}
