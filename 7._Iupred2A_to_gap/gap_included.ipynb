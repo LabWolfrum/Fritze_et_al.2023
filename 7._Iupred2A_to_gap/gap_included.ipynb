{
 "cells": [
  {
   "cell_type": "code",
   "execution_count": null,
   "id": "151c8844",
   "metadata": {},
   "outputs": [],
   "source": [
    "######code ends up to include in the front one sequence + binary code, which is wrong, this has top be deleted manually!!!\n",
    "####\n",
    "###"
   ]
  },
  {
   "cell_type": "code",
   "execution_count": 50,
   "id": "80c33a7f",
   "metadata": {},
   "outputs": [],
   "source": [
    "####code to include gaps in the binary code####\n",
    "\n",
    "\n",
    "with open(\"Jalview_edited_length_wo_gap_delte_double.fasta\", \"r\") as f1, open(\"Iupred2_parser.fasta\", \"r\") as f2:\n",
    "    iupred_dict = {}\n",
    "    for line in f2:\n",
    "        if line.startswith(\">\"):\n",
    "            current_seq_id = line.strip()[1:]\n",
    "        else:\n",
    "            iupred_dict[current_seq_id] = line.strip()\n",
    "\n",
    "    with open(\"output.txt\", \"w\") as outfile:\n",
    "        for line in f1:\n",
    "            line = line.strip()  # Remove any leading or trailing whitespace\n",
    "            if line.startswith(\">\"):\n",
    "                if current_seq_id in iupred_dict:\n",
    "                    binary_code = iupred_dict[current_seq_id]\n",
    "                    # Generate a list of unique letters in the sequence (excluding \"-\")\n",
    "                    unique_letters = list(set([letter for letter in current_sequence if letter != \"-\"]))\n",
    "\n",
    "                    # Make sure the binary code is long enough to encode all the unique letters\n",
    "                    assert len(binary_code) >= len(unique_letters), \"Binary code too short for sequence\"\n",
    "\n",
    "                    # Replace each letter in the sequence with its corresponding binary digit\n",
    "                    binary_sequence = \"\"\n",
    "                    used_digits = []\n",
    "                    for letter in current_sequence:\n",
    "                        if letter == \"-\":\n",
    "                            binary_sequence += \"-\"\n",
    "                        else:\n",
    "                            digit = binary_code[len(used_digits)]\n",
    "                            used_digits.append(digit)\n",
    "                            binary_sequence += digit\n",
    "\n",
    "                    # Write the sequence ID and binary sequence to the output file\n",
    "                    outfile.write(current_seq_id + \";\" + binary_sequence + \"\\n\")\n",
    "\n",
    "                # Reset the current sequence ID and sequence\n",
    "                current_seq_id = line[1:]\n",
    "                current_sequence = \"\"\n",
    "            elif line != \"\":\n",
    "                current_sequence += line\n",
    "\n",
    "        # Process the last sequence (if there is one)\n",
    "        if current_seq_id in iupred_dict:\n",
    "            binary_code = iupred_dict[current_seq_id]\n",
    "            # Generate a list of unique letters in the sequence (excluding \"-\")\n",
    "            unique_letters = list(set([letter for letter in current_sequence if letter != \"-\"]))\n",
    "\n",
    "            # Make sure the binary code is long enough to encode all the unique letters\n",
    "            assert len(binary_code) >= len(unique_letters), \"Binary code too short for sequence\"\n",
    "\n",
    "            # Replace each letter in the sequence with its corresponding binary digit\n",
    "            binary_sequence = \"\"\n",
    "            used_digits = []\n",
    "            for letter in current_sequence:\n",
    "                if letter == \"-\":\n",
    "                    binary_sequence += \"-\"\n",
    "                else:\n",
    "                    digit = binary_code[len(used_digits)]\n",
    "                    used_digits.append(digit)\n",
    "                    binary_sequence += digit\n",
    "\n",
    "            # Write the sequence ID and binary sequence to the output file\n",
    "            outfile.write(current_seq_id + \";\" + binary_sequence + \"\\n\")\n",
    "\n"
   ]
  },
  {
   "cell_type": "code",
   "execution_count": 52,
   "id": "7ea0798f",
   "metadata": {},
   "outputs": [],
   "source": [
    "####code to build the mean of all steps in the new ouput file####\n",
    "\n",
    "\n",
    "import numpy as np\n",
    "\n",
    "with open(\"output_mod.txt\", \"r\") as f:####here the modified output file from above is used####\n",
    "    binary_sequences = []\n",
    "    for line in f:\n",
    "        line = line.strip()\n",
    "        # Skip empty or invalid lines\n",
    "        if not line or \";\" not in line:\n",
    "            continue\n",
    "        # Extract binary sequence\n",
    "        binary_sequence = line.split(\";\")[1]\n",
    "        binary_sequences.append(binary_sequence)\n",
    "\n",
    "    # Calculate the mean at each position over all binary sequences\n",
    "    means = []\n",
    "    for i in range(len(binary_sequences[0])):\n",
    "        values = []\n",
    "        for binary_sequence in binary_sequences:\n",
    "            if binary_sequence[i] != \"-\":\n",
    "                values.append(int(binary_sequence[i]))\n",
    "        means.append(np.mean(values))\n",
    "\n",
    "    # Write means to file\n",
    "    with open(\"sum.txt\", \"w\") as outfile:\n",
    "        for i, mean in enumerate(means):\n",
    "            outfile.write(f\"{i+1};{mean}\\n\")\n"
   ]
  },
  {
   "cell_type": "code",
   "execution_count": null,
   "id": "aaaf5cd1",
   "metadata": {},
   "outputs": [],
   "source": [
    "\n"
   ]
  },
  {
   "cell_type": "code",
   "execution_count": null,
   "id": "ac389bd4",
   "metadata": {},
   "outputs": [],
   "source": [
    "\n"
   ]
  },
  {
   "cell_type": "code",
   "execution_count": null,
   "id": "090bcb1d",
   "metadata": {},
   "outputs": [],
   "source": []
  }
 ],
 "metadata": {
  "kernelspec": {
   "display_name": "Python 3 (ipykernel)",
   "language": "python",
   "name": "python3"
  },
  "language_info": {
   "codemirror_mode": {
    "name": "ipython",
    "version": 3
   },
   "file_extension": ".py",
   "mimetype": "text/x-python",
   "name": "python",
   "nbconvert_exporter": "python",
   "pygments_lexer": "ipython3",
   "version": "3.9.13"
  }
 },
 "nbformat": 4,
 "nbformat_minor": 5
}
